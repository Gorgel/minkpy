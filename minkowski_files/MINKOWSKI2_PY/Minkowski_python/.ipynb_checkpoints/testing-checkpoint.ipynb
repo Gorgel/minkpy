{
 "cells": [
  {
   "cell_type": "code",
   "execution_count": 86,
   "metadata": {
    "collapsed": true
   },
   "outputs": [],
   "source": [
    "from __future__ import division\n",
    "import numpy as np\n",
    "import matplotlib.pyplot as plt\n",
    "import ctypes\n",
    "import c2raytools as c2t"
   ]
  },
  {
   "cell_type": "code",
   "execution_count": 87,
   "metadata": {
    "collapsed": true
   },
   "outputs": [],
   "source": [
    "# the data we want to analyse, a 3D array of floats\n",
    "uv = c2t.read_cbin('/home/gorgel/Documents/C2ray/dtbox_smth7.96.cbin')\n",
    "\n",
    "# the size of the data we want to analyse, a 1D array of three integers (same as the -x -y -z options)\n",
    "usizev = np.array([504,504,504])\n",
    "\n",
    "# integer: number of bins to use (same as -b option)\n",
    "numbins = int(2)\n",
    "\n",
    "#float: lowest value of threshold (same as -l option)\n",
    "low = float(1)\n",
    "\n",
    "# float: highest values of threshold (same as -h option)\n",
    "high = float(20) \n",
    "\n",
    "# vsumv - the output, a 3D array of floats. The size is (3,numbins+1,5) "
   ]
  },
  {
   "cell_type": "code",
   "execution_count": null,
   "metadata": {
    "collapsed": false
   },
   "outputs": [],
   "source": []
  },
  {
   "cell_type": "code",
   "execution_count": 90,
   "metadata": {
    "collapsed": false
   },
   "outputs": [],
   "source": [
    "def mink(input_array, array_size, nr_bins, low, high):\n",
    "    lib_file = '/home/gorgel/Dropbox/simon/plugg/masterarbete/minkowski_files/MINKOWSKI2_PY/testpython/Minkowski_python/minkowski_python.so'\n",
    "    lib = ctypes.cdll.LoadLibrary(lib_file)\n",
    "    func = lib.minkowski\n",
    "    input_array = input_array.astype('double')\n",
    "    output_array = np.zeros((3,nr_bins+1,5), dtype=np.double)\n",
    "    output_array = func(ctypes.c_void_p(input_array.ctypes.data), ctypes.c_void_p(array_size.ctypes.data),\\\n",
    "         ctypes.c_int(nr_bins), ctypes.c_float(low) , ctypes.c_float(high) ,ctypes.c_void_p(output_array.ctypes.data))\n",
    "\n",
    "    return output_array "
   ]
  },
  {
   "cell_type": "code",
   "execution_count": 91,
   "metadata": {
    "collapsed": false
   },
   "outputs": [],
   "source": [
    "A = mink(uv, usizev, numbins, high, low)"
   ]
  },
  {
   "cell_type": "code",
   "execution_count": 92,
   "metadata": {
    "collapsed": false
   },
   "outputs": [
    {
     "data": {
      "text/plain": [
       "2"
      ]
     },
     "execution_count": 92,
     "metadata": {},
     "output_type": "execute_result"
    }
   ],
   "source": [
    "A"
   ]
  },
  {
   "cell_type": "code",
   "execution_count": 83,
   "metadata": {
    "collapsed": false
   },
   "outputs": [
    {
     "data": {
      "text/plain": [
       "1.0"
      ]
     },
     "execution_count": 83,
     "metadata": {},
     "output_type": "execute_result"
    }
   ],
   "source": [
    "low"
   ]
  },
  {
   "cell_type": "code",
   "execution_count": null,
   "metadata": {
    "collapsed": true
   },
   "outputs": [],
   "source": []
  }
 ],
 "metadata": {
  "kernelspec": {
   "display_name": "Python 2",
   "language": "python",
   "name": "python2"
  },
  "language_info": {
   "codemirror_mode": {
    "name": "ipython",
    "version": 2
   },
   "file_extension": ".py",
   "mimetype": "text/x-python",
   "name": "python",
   "nbconvert_exporter": "python",
   "pygments_lexer": "ipython2",
   "version": "2.7.9"
  }
 },
 "nbformat": 4,
 "nbformat_minor": 0
}
